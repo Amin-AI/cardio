{
 "cells": [
  {
   "cell_type": "markdown",
   "metadata": {},
   "source": [
    "# FFT model training\n",
    "\n",
    "In this notebook we will train a model based of fast Fourier transform for detection of atrial fibrillation."
   ]
  },
  {
   "cell_type": "markdown",
   "metadata": {},
   "source": [
    "* [Init dataset](#Init-dataset)\n",
    "* [Train pipeline](#Train-pipeline)\n",
    "* [Show loss and metric on train](#Show-loss-and-metric-on-train)\n",
    "* [Make predictions](#Make-predictions)"
   ]
  },
  {
   "cell_type": "markdown",
   "metadata": {},
   "source": [
    "## Init dataset"
   ]
  },
  {
   "cell_type": "markdown",
   "metadata": {},
   "source": [
    "For model training we will use the PhysioNet's short single lead ECG recording [database](https://physionet.org/challenge/2017/). To follow the tutorial download the PhysioNet's database."
   ]
  },
  {
   "cell_type": "code",
   "execution_count": 1,
   "metadata": {},
   "outputs": [],
   "source": [
    "import sys, os\n",
    "sys.path.append(os.path.join(\"..\", \"..\", \"..\"))\n",
    "\n",
    "from cardio import EcgDataset\n",
    "eds = EcgDataset(path=\"/notebooks/data/ECG/training2017/*.hea\", no_ext=True, sort=True)\n",
    "eds.split(0.8)"
   ]
  },
  {
   "cell_type": "markdown",
   "metadata": {},
   "source": [
    "## Train pipeline"
   ]
  },
  {
   "cell_type": "markdown",
   "metadata": {},
   "source": [
    "To train the model we construct a ```train_pipeline```. Within the pipeline we initialize the ```FFTModel``` model with given model_config, initialize variable to store loss, load and preprocesse signals, declare which components of the batch are ```x``` and ```y``` for the model and train the model."
   ]
  },
  {
   "cell_type": "code",
   "execution_count": 2,
   "metadata": {},
   "outputs": [
    {
     "name": "stderr",
     "output_type": "stream",
     "text": [
      "Using TensorFlow backend.\n"
     ]
    }
   ],
   "source": [
    "import numpy as np\n",
    "import cardio.batchflow as bf\n",
    "from cardio.batchflow import F, V, B\n",
    "from cardio.models.fft_model import FFTModel\n",
    "\n",
    "model_config = {\n",
    "    \"input_shape\": F(lambda batch: batch.signal[0].shape),\n",
    "    \"loss\": \"binary_crossentropy\",\n",
    "    \"optimizer\": \"adam\"\n",
    "}\n",
    "\n",
    "def make_data(batch, **kwagrs):\n",
    "    return {'x': np.array(list(batch.signal)), 'y': batch.target}\n",
    "    \n",
    "train_pipeline = (bf.Pipeline()\n",
    "                  .init_model(\"dynamic\", FFTModel, name=\"fft_model\", config=model_config)\n",
    "                  .init_variable(\"loss_history\", init_on_each_run=list)\n",
    "                  .load(fmt=\"wfdb\", components=[\"signal\", \"meta\"])\n",
    "                  .load(src=\"/notebooks/data/ECG/training2017/REFERENCE.csv\",\n",
    "                        fmt=\"csv\", components=\"target\")\n",
    "                  .drop_labels([\"~\"])\n",
    "                  .rename_labels({\"N\": \"NO\", \"O\": \"NO\"})\n",
    "                  .random_resample_signals(\"normal\", loc=300, scale=10)\n",
    "                  .drop_short_signals(4000)\n",
    "                  .split_signals(3000, 3000)\n",
    "                  .binarize_labels()\n",
    "                  .apply_transform(np.transpose, axes=[0, 2, 1], src='signal', dst='signal')\n",
    "                  .unstack_signals()\n",
    "                  .train_model('fft_model', make_data=make_data,\n",
    "                               save_to=V(\"loss_history\"), mode=\"a\"))"
   ]
  },
  {
   "cell_type": "markdown",
   "metadata": {},
   "source": [
    "Run ```train_pipeline```:"
   ]
  },
  {
   "cell_type": "code",
   "execution_count": 3,
   "metadata": {},
   "outputs": [],
   "source": [
    "%env CUDA_VISIBLE_DEVICES=1\n",
    "\n",
    "fft_trained = (eds.train >> train_pipeline).run(batch_size=300, shuffle=True,\n",
    "                                                drop_last=True, n_epochs=250, prefetch=0)"
   ]
  },
  {
   "cell_type": "markdown",
   "metadata": {},
   "source": [
    "## Show loss and metric on train"
   ]
  },
  {
   "cell_type": "markdown",
   "metadata": {},
   "source": [
    "Now ```fft_trained``` contains trained model and loss history. Method ```get_variable``` allows to get ```loss_history``` and we can plot it:"
   ]
  },
  {
   "cell_type": "code",
   "execution_count": 4,
   "metadata": {},
   "outputs": [
    {
     "data": {
      "image/png": "[encoded data removed]",
      "text/plain": [
       "<matplotlib.figure.Figure at 0x7f4997911278>"
      ]
     },
     "metadata": {},
     "output_type": "display_data"
    }
   ],
   "source": [
    "import pandas as pd\n",
    "import matplotlib.pyplot as plt\n",
    "\n",
    "loss = pd.DataFrame(fft_trained.get_variable(\"loss_history\"), columns=[\"loss\"])\n",
    "loss[\"avr loss\"] = pd.DataFrame(loss).rolling(center=True, window=100).mean()\n",
    "loss.plot()\n",
    "plt.show()"
   ]
  },
  {
   "cell_type": "markdown",
   "metadata": {},
   "source": [
    "## Make predictions"
   ]
  },
  {
   "cell_type": "markdown",
   "metadata": {},
   "source": [
    "For predictions we create ```predict_pipeline```. It differs from ```train_pipeline``` in several things. We import trained model instead of initializing a new one and apply ```predict_model``` instead of ```train_model``` action. Another difference is that we aggregate predictions on signal segments into the final prediction for the whole signal. Function ```make_pivot``` is responsible for it."
   ]
  },
  {
   "cell_type": "code",
   "execution_count": 5,
   "metadata": {},
   "outputs": [],
   "source": [
    "def make_pivot(pipeline, variable_name):\n",
    "    cropes = np.array([x[0] for x in pipeline.get_variable(\"shapes\")])\n",
    "    pos = np.vstack([np.pad(np.cumsum(cropes)[:-1], pad_width=(1, 0), mode='constant'), cropes]).T\n",
    "    labels = np.array(pipeline.get_variable(variable_name))    \n",
    "    return np.array([labels[s: s + i].mean(axis=0) for s, i in pos])\n",
    "\n",
    "predict_pipeline = (bf.Pipeline()\n",
    "                    .import_model(\"fft_model\", fft_trained)\n",
    "                    .init_variable(\"true_labels\", init_on_each_run=list)\n",
    "                    .init_variable(\"pred_labels\", init_on_each_run=list)\n",
    "                    .init_variable(\"shapes\", init_on_each_run=list)\n",
    "                    .init_variable(\"pivot_true_labels\", init_on_each_run=list)\n",
    "                    .init_variable(\"pivot_pred_labels\", init_on_each_run=list)\n",
    "                    .load(fmt=\"wfdb\", components=[\"signal\", \"meta\"])\n",
    "                    .load(src=\"/notebooks/data/ECG/training2017/REFERENCE.csv\",\n",
    "                          fmt=\"csv\", components=\"target\")\n",
    "                    .drop_labels([\"~\"])\n",
    "                    .rename_labels({\"N\": \"NO\", \"O\": \"NO\"})\n",
    "                    .drop_short_signals(4000)\n",
    "                    .split_signals(3000, 3000)\n",
    "                    .binarize_labels()\n",
    "                    .apply_transform(np.transpose, axes=[0, 2, 1], src='signal', dst='signal')\n",
    "                    .update_variable(\"shapes\", F(lambda batch: [x.shape for x in batch.signal]), mode='w')\n",
    "                    .unstack_signals()\n",
    "                    .update_variable(\"true_labels\", B('target'), mode='w')\n",
    "                    .predict_model('fft_model', make_data=make_data, save_to=V(\"pred_labels\"), mode=\"w\")\n",
    "                    .update_variable(\"pivot_true_labels\", F(lambda batch: make_pivot(batch.pipeline,\n",
    "                                                                                     'true_labels')), mode='e')\n",
    "                    .update_variable(\"pivot_pred_labels\", F(lambda batch: make_pivot(batch.pipeline,\n",
    "                                                                                     'pred_labels')), mode='e'))"
   ]
  },
  {
   "cell_type": "markdown",
   "metadata": {},
   "source": [
    "Run ```predict_pipeline``` on the test part of the dataset:"
   ]
  },
  {
   "cell_type": "code",
   "execution_count": 6,
   "metadata": {},
   "outputs": [],
   "source": [
    "res_test = (eds.test >> predict_pipeline).run(batch_size=300, shuffle=False, drop_last=False,\n",
    "                                           n_epochs=1, prefetch=0)"
   ]
  },
  {
   "cell_type": "markdown",
   "metadata": {},
   "source": [
    "Consider predicted values and true labels which are stored in ```pivot_pred_labels``` and ```pivot_true_labels```. We get them through ```get_variable``` method and caclulate several classification metrics:"
   ]
  },
  {
   "cell_type": "code",
   "execution_count": 7,
   "metadata": {},
   "outputs": [
    {
     "name": "stdout",
     "output_type": "stream",
     "text": [
      "0.878696268304\n"
     ]
    }
   ],
   "source": [
    "from sklearn.metrics import f1_score\n",
    "\n",
    "print(f1_score(np.array(res_test.get_variable(\"pivot_true_labels\"))[:, 0],\n",
    "               np.rint(res_test.get_variable(\"pivot_pred_labels\"))[:, 0], average='macro'))"
   ]
  },
  {
   "cell_type": "code",
   "execution_count": 8,
   "metadata": {},
   "outputs": [
    {
     "name": "stdout",
     "output_type": "stream",
     "text": [
      "             precision    recall  f1-score   support\n",
      "\n",
      "        0.0       0.97      0.99      0.98      1443\n",
      "        1.0       0.88      0.70      0.78       162\n",
      "\n",
      "avg / total       0.96      0.96      0.96      1605\n",
      "\n"
     ]
    }
   ],
   "source": [
    "from sklearn.metrics import classification_report\n",
    "\n",
    "print(classification_report(np.array(res_test.get_variable(\"pivot_true_labels\"))[:, 0],\n",
    "                            np.rint(res_test.get_variable(\"pivot_pred_labels\"))[:, 0]))"
   ]
  }
 ],
 "metadata": {
  "kernelspec": {
   "display_name": "Python 3",
   "language": "python",
   "name": "python3"
  },
  "language_info": {
   "codemirror_mode": {
    "name": "ipython",
    "version": 3
   },
   "file_extension": ".py",
   "mimetype": "text/x-python",
   "name": "python",
   "nbconvert_exporter": "python",
   "pygments_lexer": "ipython3",
   "version": "3.6.5"
  }
 },
 "nbformat": 4,
 "nbformat_minor": 2
}
